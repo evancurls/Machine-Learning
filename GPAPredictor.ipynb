{
 "cells": [
  {
   "cell_type": "markdown",
   "id": "6fe678d3",
   "metadata": {
    "papermill": {
     "duration": 0.004522,
     "end_time": "2025-02-19T02:39:33.060508",
     "exception": false,
     "start_time": "2025-02-19T02:39:33.055986",
     "status": "completed"
    },
    "tags": []
   },
   "source": [
    "'''\n",
    "For Development, I knew that adding features would take a good amount of normalization and standardization, as there are several categories that don't simply fall between the GPA 0-4 scale. So, I began by only taking the features that were between these scales and training based of those. However there came the issue of missing values, so what I initially did was replacing them with zero, and then going from there after the model was built. I figured that since it was another Regression model, I'd use a structure similar to the one I did last time, and that is the SVR model with a linear kernel. Once this was figured out, I returned to my problem of missing values. After some research, I figured the SimpleImputer class with a mean estimate would get the job done nicely for replacing these missing values, and did just that. After creating and submitting my model, I was quite surprised to see I got a good score. Now to further optimize, I attempted to port in additional metrics such as the student's major or age. At first, I would convert all major's to a value from a range of 0 to 1 in a single column and appended that to my features list, but it did not seem to significantly impact my scores. However, upon a new attempt, I have instead opted to separate each major into a separate column and assign it either a 0 or a 1. Results seemed to improve.\n",
    "'''\n"
   ]
  },
  {
   "cell_type": "code",
   "execution_count": 1,
   "id": "384d678f",
   "metadata": {
    "_cell_guid": "b1076dfc-b9ad-4769-8c92-a6c4dae69d19",
    "_uuid": "8f2839f25d086af736a60e9eeb907d3b93b6e0e5",
    "execution": {
     "iopub.execute_input": "2025-02-19T02:39:33.070416Z",
     "iopub.status.busy": "2025-02-19T02:39:33.069857Z",
     "iopub.status.idle": "2025-02-19T02:39:34.046045Z",
     "shell.execute_reply": "2025-02-19T02:39:34.044703Z"
    },
    "papermill": {
     "duration": 0.983485,
     "end_time": "2025-02-19T02:39:34.048060",
     "exception": false,
     "start_time": "2025-02-19T02:39:33.064575",
     "status": "completed"
    },
    "tags": []
   },
   "outputs": [
    {
     "name": "stdout",
     "output_type": "stream",
     "text": [
      "/kaggle/input/project-2-cosc-220-spring-2025/train.csv\n",
      "/kaggle/input/project-2-cosc-220-spring-2025/test.csv\n",
      "/kaggle/input/project-2-cosc-220-spring-2025/archive/train.json\n",
      "/kaggle/input/project-2-cosc-220-spring-2025/archive/test.json\n"
     ]
    }
   ],
   "source": [
    "# This Python 3 environment comes with many helpful analytics libraries installed\n",
    "# It is defined by the kaggle/python Docker image: https://github.com/kaggle/docker-python\n",
    "# For example, here's several helpful packages to load\n",
    "\n",
    "import numpy as np # linear algebra\n",
    "import pandas as pd # data processing, CSV file I/O (e.g. pd.read_csv)\n",
    "\n",
    "# Input data files are available in the read-only \"../input/\" directory\n",
    "# For example, running this (by clicking run or pressing Shift+Enter) will list all files under the input directory\n",
    "\n",
    "import os\n",
    "for dirname, _, filenames in os.walk('/kaggle/input'):\n",
    "    for filename in filenames:\n",
    "        print(os.path.join(dirname, filename))\n",
    "\n",
    "# You can write up to 20GB to the current directory (/kaggle/working/) that gets preserved as output when you create a version using \"Save & Run All\" \n",
    "# You can also write temporary files to /kaggle/temp/, but they won't be saved outside of the current session"
   ]
  },
  {
   "cell_type": "markdown",
   "id": "b16ec892",
   "metadata": {
    "papermill": {
     "duration": 0.003759,
     "end_time": "2025-02-19T02:39:34.056202",
     "exception": false,
     "start_time": "2025-02-19T02:39:34.052443",
     "status": "completed"
    },
    "tags": []
   },
   "source": [
    "# Loading Train and Test Data from files"
   ]
  },
  {
   "cell_type": "code",
   "execution_count": 2,
   "id": "bb97fc39",
   "metadata": {
    "execution": {
     "iopub.execute_input": "2025-02-19T02:39:34.065604Z",
     "iopub.status.busy": "2025-02-19T02:39:34.065091Z",
     "iopub.status.idle": "2025-02-19T02:39:34.137771Z",
     "shell.execute_reply": "2025-02-19T02:39:34.136107Z"
    },
    "papermill": {
     "duration": 0.079417,
     "end_time": "2025-02-19T02:39:34.139613",
     "exception": false,
     "start_time": "2025-02-19T02:39:34.060196",
     "status": "completed"
    },
    "tags": []
   },
   "outputs": [
    {
     "name": "stdout",
     "output_type": "stream",
     "text": [
      "Data has been loaded\n",
      "       ID Gender Admit Type  Age at First Term                     Major  \\\n",
      "0    1001      M         FR                 18                Psychology   \n",
      "1    1002      M        TRN                 22  Integrated Marketing Com   \n",
      "2    1003      F         FR                 18  Integrated Marketing Com   \n",
      "3    1004      F        TRN                 20  Integrated Marketing Com   \n",
      "4    1005      M        TRN                 20                 Economics   \n",
      "..    ...    ...        ...                ...                       ...   \n",
      "720  1721      F        TRN                 20   Business Administration   \n",
      "721  1722      M        IFR                 23   Business Administration   \n",
      "722  1723      M        IFR                 20     Computer Science/Math   \n",
      "723  1724      F        ITR                 20      Sports Medicine - BA   \n",
      "724  1725      M        TRN                 19         Political Science   \n",
      "\n",
      "     High School GPA  SAT Verbal  SAT Math  ACT Reading  ACT English  ...  \\\n",
      "0               3.82         NaN       NaN         35.0         35.0  ...   \n",
      "1               2.86       500.0     620.0          NaN          NaN  ...   \n",
      "2               3.40         NaN       NaN         22.0         29.0  ...   \n",
      "3               3.00       590.0     640.0          NaN          NaN  ...   \n",
      "4               3.68         NaN       NaN          NaN          NaN  ...   \n",
      "..               ...         ...       ...          ...          ...  ...   \n",
      "720             3.63         NaN       NaN          NaN          NaN  ...   \n",
      "721             2.96       490.0     520.0          NaN          NaN  ...   \n",
      "722             3.45       490.0     700.0          NaN          NaN  ...   \n",
      "723              NaN         NaN       NaN          NaN          NaN  ...   \n",
      "724             3.31         NaN       NaN         22.0         24.0  ...   \n",
      "\n",
      "     GPA Term 2  Attmpt Units Term 3  Passed Units Term 3  GPA Term 3  \\\n",
      "0         3.772                    0                    0       0.000   \n",
      "1         3.186                   13                   13       3.485   \n",
      "2         3.533                    4                    4       3.000   \n",
      "3         3.259                    1                    1       3.300   \n",
      "4         3.326                    0                    0       0.000   \n",
      "..          ...                  ...                  ...         ...   \n",
      "720       2.910                    6                    6       3.700   \n",
      "721       2.271                    0                    0       0.000   \n",
      "722       4.000                    6                    6       3.500   \n",
      "723       2.452                    0                    0       0.000   \n",
      "724       2.069                    6                    6       3.150   \n",
      "\n",
      "     Attmpt Units Term 4  Passed Units Term 4  GPA Term 4  \\\n",
      "0                   13.5                   13       3.609   \n",
      "1                   18.5                   18       2.886   \n",
      "2                   14.5                   14       3.037   \n",
      "3                   16.5                   16       2.964   \n",
      "4                   18.5                   18       3.935   \n",
      "..                   ...                  ...         ...   \n",
      "720                 13.5                   13       3.367   \n",
      "721                 15.5                   15       2.923   \n",
      "722                 14.5                   14       3.893   \n",
      "723                 15.5                   15       2.400   \n",
      "724                 14.5                   14       2.069   \n",
      "\n",
      "     Attmpt Units Term 5  Passed Units Term 5  GPA Term 5  \n",
      "0                   13.5                   13       3.844  \n",
      "1                   12.0                   12       3.475  \n",
      "2                   15.5                   12       3.652  \n",
      "3                   13.5                   13       3.768  \n",
      "4                   18.5                   18       2.886  \n",
      "..                   ...                  ...         ...  \n",
      "720                 14.5                   14       3.448  \n",
      "721                 17.5                   17       2.940  \n",
      "722                 14.5                   14       3.303  \n",
      "723                 15.5                   15       3.194  \n",
      "724                 12.5                    8       1.400  \n",
      "\n",
      "[725 rows x 27 columns]\n"
     ]
    },
    {
     "name": "stderr",
     "output_type": "stream",
     "text": [
      "/usr/local/lib/python3.10/dist-packages/pandas/io/formats/format.py:1458: RuntimeWarning: invalid value encountered in greater\n",
      "  has_large_values = (abs_vals > 1e6).any()\n",
      "/usr/local/lib/python3.10/dist-packages/pandas/io/formats/format.py:1459: RuntimeWarning: invalid value encountered in less\n",
      "  has_small_values = ((abs_vals < 10 ** (-self.digits)) & (abs_vals > 0)).any()\n",
      "/usr/local/lib/python3.10/dist-packages/pandas/io/formats/format.py:1459: RuntimeWarning: invalid value encountered in greater\n",
      "  has_small_values = ((abs_vals < 10 ** (-self.digits)) & (abs_vals > 0)).any()\n"
     ]
    }
   ],
   "source": [
    "#Read data from the file and add it\n",
    "import json\n",
    "import numpy as np\n",
    "import pandas as pd\n",
    "\n",
    "train_path = '/kaggle/input/project-2-cosc-220-spring-2025/train.csv'\n",
    "test_path = '/kaggle/input/project-2-cosc-220-spring-2025/test.csv'\n",
    "\n",
    "trainData = pd.read_csv(train_path)\n",
    "testData = pd.read_csv(test_path)\n",
    "\n",
    "#data loaded\n",
    "print(\"Data has been loaded\")\n",
    "\n",
    "\n",
    "#print(testData[:5])\n",
    "\n",
    "#to hold the end gpa\n",
    "y = trainData[\"GPA\"]\n",
    "\n",
    "#features to look for\n",
    "features = [\"Age at First Term\",\"GPA Term 1\",\"GPA Term 2\", \"GPA Term 3\", \"GPA Term 4\", \"GPA Term 5\"]\n",
    "\n",
    "\n",
    "print(testData)\n"
   ]
  },
  {
   "cell_type": "markdown",
   "id": "fc56724c",
   "metadata": {
    "papermill": {
     "duration": 0.004073,
     "end_time": "2025-02-19T02:39:34.148120",
     "exception": false,
     "start_time": "2025-02-19T02:39:34.144047",
     "status": "completed"
    },
    "tags": []
   },
   "source": [
    "# **Data Framing and Replacing Missing Numbers for the Numerical Features for X and Xtest**"
   ]
  },
  {
   "cell_type": "code",
   "execution_count": 3,
   "id": "4f5bca0c",
   "metadata": {
    "execution": {
     "iopub.execute_input": "2025-02-19T02:39:34.158043Z",
     "iopub.status.busy": "2025-02-19T02:39:34.157592Z",
     "iopub.status.idle": "2025-02-19T02:39:36.058591Z",
     "shell.execute_reply": "2025-02-19T02:39:36.057076Z"
    },
    "papermill": {
     "duration": 1.908212,
     "end_time": "2025-02-19T02:39:36.060625",
     "exception": false,
     "start_time": "2025-02-19T02:39:34.152413",
     "status": "completed"
    },
    "tags": []
   },
   "outputs": [
    {
     "name": "stdout",
     "output_type": "stream",
     "text": [
      "     Age at First Term  GPA Term 1  GPA Term 2  GPA Term 3  GPA Term 4  \\\n",
      "0                   18       3.811       3.352         NaN       3.761   \n",
      "1                   20       2.889       3.032       2.700       2.845   \n",
      "2                   22       2.473       2.358         NaN         NaN   \n",
      "3                   21       3.093       3.366       3.390       3.056   \n",
      "4                   18       3.656       3.691         NaN       3.772   \n",
      "..                 ...         ...         ...         ...         ...   \n",
      "701                 22       2.873       1.667         NaN       3.190   \n",
      "702                 18       3.048       2.344       3.000       2.819   \n",
      "703                 20       2.364       2.327       3.364       2.703   \n",
      "704                 20       3.829       2.958         NaN       2.987   \n",
      "705                 20       3.517       3.606       3.580       3.808   \n",
      "\n",
      "     GPA Term 5  \n",
      "0         3.933  \n",
      "1         2.764  \n",
      "2           NaN  \n",
      "3         3.132  \n",
      "4         3.778  \n",
      "..          ...  \n",
      "701       3.086  \n",
      "702       3.217  \n",
      "703       2.855  \n",
      "704       3.024  \n",
      "705       3.587  \n",
      "\n",
      "[706 rows x 6 columns]\n",
      "     Age at First Term  GPA Term 1  GPA Term 2  GPA Term 3  GPA Term 4  \\\n",
      "0                 18.0       3.811       3.352      3.9450      3.7610   \n",
      "1                 20.0       2.889       3.032      2.7000      2.8450   \n",
      "2                 22.0       2.473       2.358      3.7086      2.7652   \n",
      "3                 21.0       3.093       3.366      3.3900      3.0560   \n",
      "4                 18.0       3.656       3.691      3.8500      3.7720   \n",
      "..                 ...         ...         ...         ...         ...   \n",
      "701               22.0       2.873       1.667      3.4726      3.1900   \n",
      "702               18.0       3.048       2.344      3.0000      2.8190   \n",
      "703               20.0       2.364       2.327      3.3640      2.7030   \n",
      "704               20.0       3.829       2.958      3.5132      2.9870   \n",
      "705               20.0       3.517       3.606      3.5800      3.8080   \n",
      "\n",
      "     GPA Term 5  \n",
      "0        3.9330  \n",
      "1        2.7640  \n",
      "2        3.0092  \n",
      "3        3.1320  \n",
      "4        3.7780  \n",
      "..          ...  \n",
      "701      3.0860  \n",
      "702      3.2170  \n",
      "703      2.8550  \n",
      "704      3.0240  \n",
      "705      3.5870  \n",
      "\n",
      "[706 rows x 6 columns]\n"
     ]
    },
    {
     "name": "stderr",
     "output_type": "stream",
     "text": [
      "<ipython-input-3-305f349c28b9>:11: SettingWithCopyWarning: \n",
      "A value is trying to be set on a copy of a slice from a DataFrame\n",
      "\n",
      "See the caveats in the documentation: https://pandas.pydata.org/pandas-docs/stable/user_guide/indexing.html#returning-a-view-versus-a-copy\n",
      "  X.replace(0.00, np.nan, inplace=True)\n",
      "<ipython-input-3-305f349c28b9>:13: SettingWithCopyWarning: \n",
      "A value is trying to be set on a copy of a slice from a DataFrame\n",
      "\n",
      "See the caveats in the documentation: https://pandas.pydata.org/pandas-docs/stable/user_guide/indexing.html#returning-a-view-versus-a-copy\n",
      "  Xtest.replace(0.00, np.nan, inplace=True)\n",
      "/usr/local/lib/python3.10/dist-packages/pandas/io/formats/format.py:1458: RuntimeWarning: invalid value encountered in greater\n",
      "  has_large_values = (abs_vals > 1e6).any()\n",
      "/usr/local/lib/python3.10/dist-packages/pandas/io/formats/format.py:1459: RuntimeWarning: invalid value encountered in less\n",
      "  has_small_values = ((abs_vals < 10 ** (-self.digits)) & (abs_vals > 0)).any()\n",
      "/usr/local/lib/python3.10/dist-packages/pandas/io/formats/format.py:1459: RuntimeWarning: invalid value encountered in greater\n",
      "  has_small_values = ((abs_vals < 10 ** (-self.digits)) & (abs_vals > 0)).any()\n"
     ]
    }
   ],
   "source": [
    "#data now needs to be loaded to a variable and preprocessed, my current plan is to simply replace missing values with the mean, but if that proves largely innacurate I may switch\n",
    "#to a more precise prediction method\n",
    "from sklearn.impute import SimpleImputer\n",
    "from sklearn.impute import KNNImputer\n",
    "\n",
    "#model of imputing data\n",
    "imputer = SimpleImputer(strategy='mean')\n",
    "knn_imputer = KNNImputer(n_neighbors=5)\n",
    "\n",
    "X = trainData[features]\n",
    "X.replace(0.00, np.nan, inplace=True)\n",
    "Xtest = testData[features]\n",
    "Xtest.replace(0.00, np.nan, inplace=True)\n",
    "\n",
    "print(X)\n",
    "#new method of replacing values with knearestneighbor:\n",
    "X = knn_imputer.fit_transform(X) \n",
    "X = pd.DataFrame(X, columns = features)\n",
    "Xtest = knn_imputer.fit_transform(Xtest) \n",
    "Xtest = pd.DataFrame(Xtest, columns = features)\n",
    "\n",
    "print(X)\n"
   ]
  },
  {
   "cell_type": "markdown",
   "id": "4ee6aa60",
   "metadata": {
    "papermill": {
     "duration": 0.00408,
     "end_time": "2025-02-19T02:39:36.069440",
     "exception": false,
     "start_time": "2025-02-19T02:39:36.065360",
     "status": "completed"
    },
    "tags": []
   },
   "source": []
  },
  {
   "cell_type": "markdown",
   "id": "2dee4e2b",
   "metadata": {
    "papermill": {
     "duration": 0.003975,
     "end_time": "2025-02-19T02:39:36.077748",
     "exception": false,
     "start_time": "2025-02-19T02:39:36.073773",
     "status": "completed"
    },
    "tags": []
   },
   "source": [
    "# Turning Categorical Data (Majors) into numerical data "
   ]
  },
  {
   "cell_type": "code",
   "execution_count": 4,
   "id": "85755400",
   "metadata": {
    "execution": {
     "iopub.execute_input": "2025-02-19T02:39:36.087762Z",
     "iopub.status.busy": "2025-02-19T02:39:36.087244Z",
     "iopub.status.idle": "2025-02-19T02:39:36.120543Z",
     "shell.execute_reply": "2025-02-19T02:39:36.119314Z"
    },
    "papermill": {
     "duration": 0.04047,
     "end_time": "2025-02-19T02:39:36.122570",
     "exception": false,
     "start_time": "2025-02-19T02:39:36.082100",
     "status": "completed"
    },
    "tags": []
   },
   "outputs": [
    {
     "name": "stdout",
     "output_type": "stream",
     "text": [
      "After encoding:\n",
      "   Major_Accounting  Major_Advertising  Major_Art  Major_Art History  \\\n",
      "0               0.0                0.0        0.0                0.0   \n",
      "1               0.0                0.0        0.0                0.0   \n",
      "2               0.0                0.0        0.0                0.0   \n",
      "3               0.0                0.0        0.0                0.0   \n",
      "4               0.0                0.0        0.0                0.0   \n",
      "\n",
      "   Major_Biology -- BA  Major_Biology -- BS  Major_Business Administration  \\\n",
      "0                  0.0                  0.0                            0.0   \n",
      "1                  0.0                  0.0                            0.0   \n",
      "2                  0.0                  0.0                            0.0   \n",
      "3                  0.0                  0.0                            0.0   \n",
      "4                  0.0                  0.0                            0.0   \n",
      "\n",
      "   Major_Chemistry -- BA  Major_Chemistry -- BS  Major_Cinematic Arts  ...  \\\n",
      "0                    0.0                    0.0                   0.0  ...   \n",
      "1                    0.0                    0.0                   0.0  ...   \n",
      "2                    0.0                    0.0                   0.0  ...   \n",
      "3                    0.0                    0.0                   0.0  ...   \n",
      "4                    0.0                    0.0                   0.0  ...   \n",
      "\n",
      "   Major_Rhetoric and Leadership  Major_Sociology  Major_Sport Administration  \\\n",
      "0                            0.0              0.0                         0.0   \n",
      "1                            0.0              0.0                         0.0   \n",
      "2                            0.0              0.0                         0.0   \n",
      "3                            0.0              0.0                         0.0   \n",
      "4                            0.0              0.0                         1.0   \n",
      "\n",
      "   Major_Sports Medicine - BA  Major_Sports Medicine - BS  \\\n",
      "0                         0.0                         0.0   \n",
      "1                         0.0                         0.0   \n",
      "2                         0.0                         0.0   \n",
      "3                         0.0                         0.0   \n",
      "4                         0.0                         0.0   \n",
      "\n",
      "   Major_Theatre Arts (Acting)  Major_Theatre Arts (Directing)  \\\n",
      "0                          0.0                             0.0   \n",
      "1                          0.0                             0.0   \n",
      "2                          0.0                             0.0   \n",
      "3                          0.0                             0.0   \n",
      "4                          0.0                             0.0   \n",
      "\n",
      "   Major_Theatre Arts (Technical)  Major_Theatre and Media Production  \\\n",
      "0                             0.0                                 0.0   \n",
      "1                             0.0                                 0.0   \n",
      "2                             0.0                                 0.0   \n",
      "3                             0.0                                 0.0   \n",
      "4                             0.0                                 0.0   \n",
      "\n",
      "   Major_Theatre and Music  \n",
      "0                      0.0  \n",
      "1                      0.0  \n",
      "2                      0.0  \n",
      "3                      0.0  \n",
      "4                      0.0  \n",
      "\n",
      "[5 rows x 62 columns]\n"
     ]
    }
   ],
   "source": [
    "from sklearn.preprocessing import OneHotEncoder\n",
    "\n",
    "# Initialize OneHotEncoder with 'handle_unknown' to ignore unseen labels\n",
    "onehot_encoder = OneHotEncoder(handle_unknown=\"ignore\", sparse_output=False)\n",
    "\n",
    "# Fit on train data and transform both train & test\n",
    "Xmajor = onehot_encoder.fit_transform(trainData[[\"Major\"]])  \n",
    "Xmajor_test = onehot_encoder.transform(testData[[\"Major\"]])  # Transforms without errors\n",
    "\n",
    "# Convert to DataFrame\n",
    "Xmajor = pd.DataFrame(Xmajor, columns=onehot_encoder.get_feature_names_out([\"Major\"]))\n",
    "Xmajor_test = pd.DataFrame(Xmajor_test, columns=onehot_encoder.get_feature_names_out([\"Major\"]))\n",
    "\n",
    "print(f\"After encoding:\\n{Xmajor.head()}\")\n",
    "\n",
    "\n",
    "#appending the categorical and numerical data together\n",
    "X = X.join(Xmajor)\n",
    "Xtest = Xtest.join(Xmajor_test)\n",
    "\n",
    "\n"
   ]
  },
  {
   "cell_type": "markdown",
   "id": "a8bdf852",
   "metadata": {
    "papermill": {
     "duration": 0.004236,
     "end_time": "2025-02-19T02:39:36.131675",
     "exception": false,
     "start_time": "2025-02-19T02:39:36.127439",
     "status": "completed"
    },
    "tags": []
   },
   "source": [
    "# Turning Categorical Data (Gender) into numerical data "
   ]
  },
  {
   "cell_type": "code",
   "execution_count": 5,
   "id": "b5ee6e88",
   "metadata": {
    "execution": {
     "iopub.execute_input": "2025-02-19T02:39:36.142151Z",
     "iopub.status.busy": "2025-02-19T02:39:36.141733Z",
     "iopub.status.idle": "2025-02-19T02:39:36.163199Z",
     "shell.execute_reply": "2025-02-19T02:39:36.161999Z"
    },
    "papermill": {
     "duration": 0.028876,
     "end_time": "2025-02-19T02:39:36.165197",
     "exception": false,
     "start_time": "2025-02-19T02:39:36.136321",
     "status": "completed"
    },
    "tags": []
   },
   "outputs": [
    {
     "name": "stdout",
     "output_type": "stream",
     "text": [
      "After encoding:\n",
      "   Gender_F  Gender_M\n",
      "0       0.0       1.0\n",
      "1       1.0       0.0\n",
      "2       1.0       0.0\n",
      "3       1.0       0.0\n",
      "4       0.0       1.0\n"
     ]
    }
   ],
   "source": [
    "from sklearn.preprocessing import OneHotEncoder\n",
    "\n",
    "# Initialize OneHotEncoder with 'handle_unknown' to ignore unseen labels\n",
    "onehot_encoder = OneHotEncoder(handle_unknown=\"ignore\", sparse_output=False)\n",
    "\n",
    "# Fit on train data and transform both train & test\n",
    "Xgender = onehot_encoder.fit_transform(trainData[[\"Gender\"]])  \n",
    "Xgender_test = onehot_encoder.transform(testData[[\"Gender\"]])  # Transforms without errors\n",
    "\n",
    "# Convert to DataFrame\n",
    "Xgender = pd.DataFrame(Xgender, columns=onehot_encoder.get_feature_names_out([\"Gender\"]))\n",
    "Xgender_test = pd.DataFrame(Xgender_test, columns=onehot_encoder.get_feature_names_out([\"Gender\"]))\n",
    "\n",
    "print(f\"After encoding:\\n{Xgender.head()}\")\n",
    "\n",
    "\n",
    "X = X.join(Xgender)\n",
    "Xtest = Xtest.join(Xgender_test)"
   ]
  },
  {
   "cell_type": "code",
   "execution_count": 6,
   "id": "b85c63cf",
   "metadata": {
    "execution": {
     "iopub.execute_input": "2025-02-19T02:39:36.175740Z",
     "iopub.status.busy": "2025-02-19T02:39:36.175386Z",
     "iopub.status.idle": "2025-02-19T02:39:36.207720Z",
     "shell.execute_reply": "2025-02-19T02:39:36.206442Z"
    },
    "papermill": {
     "duration": 0.040043,
     "end_time": "2025-02-19T02:39:36.209991",
     "exception": false,
     "start_time": "2025-02-19T02:39:36.169948",
     "status": "completed"
    },
    "tags": []
   },
   "outputs": [
    {
     "name": "stdout",
     "output_type": "stream",
     "text": [
      "     Age at First Term  GPA Term 1  GPA Term 2  GPA Term 3  GPA Term 4  \\\n",
      "0                 18.0       3.811       3.352      3.9450      3.7610   \n",
      "1                 20.0       2.889       3.032      2.7000      2.8450   \n",
      "2                 22.0       2.473       2.358      3.7086      2.7652   \n",
      "3                 21.0       3.093       3.366      3.3900      3.0560   \n",
      "4                 18.0       3.656       3.691      3.8500      3.7720   \n",
      "..                 ...         ...         ...         ...         ...   \n",
      "701               22.0       2.873       1.667      3.4726      3.1900   \n",
      "702               18.0       3.048       2.344      3.0000      2.8190   \n",
      "703               20.0       2.364       2.327      3.3640      2.7030   \n",
      "704               20.0       3.829       2.958      3.5132      2.9870   \n",
      "705               20.0       3.517       3.606      3.5800      3.8080   \n",
      "\n",
      "     GPA Term 5  Major_Accounting  Major_Advertising  Major_Art  \\\n",
      "0        3.9330               0.0                0.0        0.0   \n",
      "1        2.7640               0.0                0.0        0.0   \n",
      "2        3.0092               0.0                0.0        0.0   \n",
      "3        3.1320               0.0                0.0        0.0   \n",
      "4        3.7780               0.0                0.0        0.0   \n",
      "..          ...               ...                ...        ...   \n",
      "701      3.0860               0.0                0.0        0.0   \n",
      "702      3.2170               0.0                0.0        0.0   \n",
      "703      2.8550               0.0                0.0        0.0   \n",
      "704      3.0240               0.0                0.0        0.0   \n",
      "705      3.5870               0.0                0.0        0.0   \n",
      "\n",
      "     Major_Art History  ...  Major_Sport Administration  \\\n",
      "0                  0.0  ...                         0.0   \n",
      "1                  0.0  ...                         0.0   \n",
      "2                  0.0  ...                         0.0   \n",
      "3                  0.0  ...                         0.0   \n",
      "4                  0.0  ...                         1.0   \n",
      "..                 ...  ...                         ...   \n",
      "701                0.0  ...                         0.0   \n",
      "702                0.0  ...                         0.0   \n",
      "703                0.0  ...                         0.0   \n",
      "704                0.0  ...                         1.0   \n",
      "705                0.0  ...                         0.0   \n",
      "\n",
      "     Major_Sports Medicine - BA  Major_Sports Medicine - BS  \\\n",
      "0                           0.0                         0.0   \n",
      "1                           0.0                         0.0   \n",
      "2                           0.0                         0.0   \n",
      "3                           0.0                         0.0   \n",
      "4                           0.0                         0.0   \n",
      "..                          ...                         ...   \n",
      "701                         0.0                         0.0   \n",
      "702                         0.0                         0.0   \n",
      "703                         0.0                         0.0   \n",
      "704                         0.0                         0.0   \n",
      "705                         0.0                         0.0   \n",
      "\n",
      "     Major_Theatre Arts (Acting)  Major_Theatre Arts (Directing)  \\\n",
      "0                            0.0                             0.0   \n",
      "1                            0.0                             0.0   \n",
      "2                            0.0                             0.0   \n",
      "3                            0.0                             0.0   \n",
      "4                            0.0                             0.0   \n",
      "..                           ...                             ...   \n",
      "701                          0.0                             0.0   \n",
      "702                          0.0                             0.0   \n",
      "703                          0.0                             0.0   \n",
      "704                          0.0                             0.0   \n",
      "705                          0.0                             0.0   \n",
      "\n",
      "     Major_Theatre Arts (Technical)  Major_Theatre and Media Production  \\\n",
      "0                               0.0                                 0.0   \n",
      "1                               0.0                                 0.0   \n",
      "2                               0.0                                 0.0   \n",
      "3                               0.0                                 0.0   \n",
      "4                               0.0                                 0.0   \n",
      "..                              ...                                 ...   \n",
      "701                             0.0                                 0.0   \n",
      "702                             0.0                                 0.0   \n",
      "703                             0.0                                 0.0   \n",
      "704                             0.0                                 0.0   \n",
      "705                             0.0                                 0.0   \n",
      "\n",
      "     Major_Theatre and Music  Gender_F  Gender_M  \n",
      "0                        0.0       0.0       1.0  \n",
      "1                        0.0       1.0       0.0  \n",
      "2                        0.0       1.0       0.0  \n",
      "3                        0.0       1.0       0.0  \n",
      "4                        0.0       0.0       1.0  \n",
      "..                       ...       ...       ...  \n",
      "701                      0.0       0.0       1.0  \n",
      "702                      0.0       1.0       0.0  \n",
      "703                      0.0       0.0       1.0  \n",
      "704                      0.0       1.0       0.0  \n",
      "705                      0.0       1.0       0.0  \n",
      "\n",
      "[706 rows x 70 columns]\n",
      "     Age at First Term  GPA Term 1  GPA Term 2  GPA Term 3  GPA Term 4  \\\n",
      "0                 18.0       3.651       3.772      3.8054       3.609   \n",
      "1                 22.0       3.255       3.186      3.4850       2.886   \n",
      "2                 18.0       3.407       3.533      3.0000       3.037   \n",
      "3                 20.0       3.309       3.259      3.3000       2.964   \n",
      "4                 20.0       3.600       3.326      3.6920       3.935   \n",
      "..                 ...         ...         ...         ...         ...   \n",
      "720               20.0       2.804       2.910      3.7000       3.367   \n",
      "721               23.0       2.989       2.271      3.4806       2.923   \n",
      "722               20.0       3.528       4.000      3.5000       3.893   \n",
      "723               20.0       2.400       2.452      3.2900       2.400   \n",
      "724               19.0       2.689       2.069      3.1500       2.069   \n",
      "\n",
      "     GPA Term 5  Major_Accounting  Major_Advertising  Major_Art  \\\n",
      "0         3.844               0.0                0.0        0.0   \n",
      "1         3.475               0.0                0.0        0.0   \n",
      "2         3.652               0.0                0.0        0.0   \n",
      "3         3.768               0.0                0.0        0.0   \n",
      "4         2.886               0.0                0.0        0.0   \n",
      "..          ...               ...                ...        ...   \n",
      "720       3.448               0.0                0.0        0.0   \n",
      "721       2.940               0.0                0.0        0.0   \n",
      "722       3.303               0.0                0.0        0.0   \n",
      "723       3.194               0.0                0.0        0.0   \n",
      "724       1.400               0.0                0.0        0.0   \n",
      "\n",
      "     Major_Art History  ...  Major_Sport Administration  \\\n",
      "0                  0.0  ...                         0.0   \n",
      "1                  0.0  ...                         0.0   \n",
      "2                  0.0  ...                         0.0   \n",
      "3                  0.0  ...                         0.0   \n",
      "4                  0.0  ...                         0.0   \n",
      "..                 ...  ...                         ...   \n",
      "720                0.0  ...                         0.0   \n",
      "721                0.0  ...                         0.0   \n",
      "722                0.0  ...                         0.0   \n",
      "723                0.0  ...                         0.0   \n",
      "724                0.0  ...                         0.0   \n",
      "\n",
      "     Major_Sports Medicine - BA  Major_Sports Medicine - BS  \\\n",
      "0                           0.0                         0.0   \n",
      "1                           0.0                         0.0   \n",
      "2                           0.0                         0.0   \n",
      "3                           0.0                         0.0   \n",
      "4                           0.0                         0.0   \n",
      "..                          ...                         ...   \n",
      "720                         0.0                         0.0   \n",
      "721                         0.0                         0.0   \n",
      "722                         0.0                         0.0   \n",
      "723                         1.0                         0.0   \n",
      "724                         0.0                         0.0   \n",
      "\n",
      "     Major_Theatre Arts (Acting)  Major_Theatre Arts (Directing)  \\\n",
      "0                            0.0                             0.0   \n",
      "1                            0.0                             0.0   \n",
      "2                            0.0                             0.0   \n",
      "3                            0.0                             0.0   \n",
      "4                            0.0                             0.0   \n",
      "..                           ...                             ...   \n",
      "720                          0.0                             0.0   \n",
      "721                          0.0                             0.0   \n",
      "722                          0.0                             0.0   \n",
      "723                          0.0                             0.0   \n",
      "724                          0.0                             0.0   \n",
      "\n",
      "     Major_Theatre Arts (Technical)  Major_Theatre and Media Production  \\\n",
      "0                               0.0                                 0.0   \n",
      "1                               0.0                                 0.0   \n",
      "2                               0.0                                 0.0   \n",
      "3                               0.0                                 0.0   \n",
      "4                               0.0                                 0.0   \n",
      "..                              ...                                 ...   \n",
      "720                             0.0                                 0.0   \n",
      "721                             0.0                                 0.0   \n",
      "722                             0.0                                 0.0   \n",
      "723                             0.0                                 0.0   \n",
      "724                             0.0                                 0.0   \n",
      "\n",
      "     Major_Theatre and Music  Gender_F  Gender_M  \n",
      "0                        0.0       0.0       1.0  \n",
      "1                        0.0       0.0       1.0  \n",
      "2                        0.0       1.0       0.0  \n",
      "3                        0.0       1.0       0.0  \n",
      "4                        0.0       0.0       1.0  \n",
      "..                       ...       ...       ...  \n",
      "720                      0.0       1.0       0.0  \n",
      "721                      0.0       0.0       1.0  \n",
      "722                      0.0       0.0       1.0  \n",
      "723                      0.0       1.0       0.0  \n",
      "724                      0.0       0.0       1.0  \n",
      "\n",
      "[725 rows x 70 columns]\n"
     ]
    }
   ],
   "source": [
    "print(X)\n",
    "print(Xtest)"
   ]
  },
  {
   "cell_type": "markdown",
   "id": "c5de3415",
   "metadata": {
    "papermill": {
     "duration": 0.004595,
     "end_time": "2025-02-19T02:39:36.219895",
     "exception": false,
     "start_time": "2025-02-19T02:39:36.215300",
     "status": "completed"
    },
    "tags": []
   },
   "source": [
    "# Finding optimal parameters and cross validating data"
   ]
  },
  {
   "cell_type": "code",
   "execution_count": 7,
   "id": "786bd19f",
   "metadata": {
    "execution": {
     "iopub.execute_input": "2025-02-19T02:39:36.231388Z",
     "iopub.status.busy": "2025-02-19T02:39:36.230829Z",
     "iopub.status.idle": "2025-02-19T02:39:36.421641Z",
     "shell.execute_reply": "2025-02-19T02:39:36.420582Z"
    },
    "papermill": {
     "duration": 0.198985,
     "end_time": "2025-02-19T02:39:36.423762",
     "exception": false,
     "start_time": "2025-02-19T02:39:36.224777",
     "status": "completed"
    },
    "tags": []
   },
   "outputs": [
    {
     "data": {
      "text/plain": [
       "'\\nparameters = SVR(kernel = \\'linear\\', C = 100, gamma = 0.0001)\\n#parameters = RandomForestRegressor(max_depth= 10, min_samples_leaf= 4, min_samples_split= 10, n_estimators = 200,random_state = 36)\\n#parameters = RandomForestRegressor(max_depth = None, min_samples_leaf= 4, min_samples_split=2, n_estimators= 50, random_state=36)\\n\\n\\npipeline = make_pipeline(StandardScaler(), parameters)\\n\\npipeline.fit(X_train,y_train)\\n\\ny_pred = pipeline.predict(X_test)\\nprint(\\'Pipeline created!\\')\\n\\n\\nprint(f\"Parameter: {parameters}\\nMean Squared Error: {mean_squared_error(y_test, y_pred)}\\n\\n\")\\n\\n'"
      ]
     },
     "execution_count": 7,
     "metadata": {},
     "output_type": "execute_result"
    }
   ],
   "source": [
    "#train test split for some validation\n",
    "#create model:\n",
    "from sklearn.pipeline import make_pipeline\n",
    "\n",
    "from sklearn.preprocessing import StandardScaler\n",
    "from sklearn.preprocessing import MinMaxScaler\n",
    "from sklearn.preprocessing import RobustScaler\n",
    "\n",
    "from sklearn.model_selection import GridSearchCV\n",
    "\n",
    "#imported models\n",
    "from sklearn.svm import SVR\n",
    "from sklearn.ensemble import RandomForestRegressor\n",
    "\n",
    "from sklearn.model_selection import train_test_split\n",
    "from sklearn.metrics import mean_squared_error\n",
    "\n",
    "\n",
    "X_train,X_test,y_train,y_test = train_test_split(X,y, test_size = 0.15, random_state = 16)\n",
    "'''\n",
    "\n",
    "#make a function to find most optimal parameters\n",
    "\n",
    "#SVR Parameters to check:\n",
    "\n",
    "params_grid = {'kernel':['linear','rbf','poly'],\n",
    "               'C': [0.001, 0.01, 0.1, 1, 10, 100],\n",
    "              'gamma':[0.0001, 0.001, 0.01, 0.1],}\n",
    "             \n",
    "'''\n",
    "#RandomForestRegressor Parameters to check:\n",
    "'''\n",
    "params_grid = {\n",
    "    \"n_estimators\": [50, 100, 200, 300],  # Different numbers of trees\n",
    "    \"max_depth\": [None, 10, 20, 30],      # Different tree depths\n",
    "    \"min_samples_split\": [2, 5, 10],      # Minimum samples required to split a node\n",
    "    \"min_samples_leaf\": [1, 2, 4],        # Minimum samples required at a leaf node\n",
    "    \"random_state\": [12, 36, 153]        # Different random seeds\n",
    "}\n",
    "\n",
    "\n",
    "model = RandomForestRegressor()\n",
    "#serves to tell me which estimators are best for my given parameters : might introduce overfitting into my data\n",
    "print(f\"GridSearchCV:\")\n",
    "grid_clf = GridSearchCV(model, params_grid)\n",
    "\n",
    "print(f\"Fitting:\")\n",
    "check = grid_clf.fit(X_train, y_train)\n",
    "\n",
    "\n",
    "print(f\"Best Parameters: {check.best_params_}\")\n",
    "print(f\"Best Score: {check.best_score_:.4f}\")\n",
    "\n",
    "\n",
    "'''\n",
    "'''\n",
    "parameters = SVR(kernel = 'linear', C = 100, gamma = 0.0001)\n",
    "#parameters = RandomForestRegressor(max_depth= 10, min_samples_leaf= 4, min_samples_split= 10, n_estimators = 200,random_state = 36)\n",
    "#parameters = RandomForestRegressor(max_depth = None, min_samples_leaf= 4, min_samples_split=2, n_estimators= 50, random_state=36)\n",
    "\n",
    "\n",
    "pipeline = make_pipeline(StandardScaler(), parameters)\n",
    "\n",
    "pipeline.fit(X_train,y_train)\n",
    "\n",
    "y_pred = pipeline.predict(X_test)\n",
    "print('Pipeline created!')\n",
    "\n",
    "\n",
    "print(f\"Parameter: {parameters}\\nMean Squared Error: {mean_squared_error(y_test, y_pred)}\\n\\n\")\n",
    "\n",
    "'''"
   ]
  },
  {
   "cell_type": "code",
   "execution_count": 8,
   "id": "075f841c",
   "metadata": {
    "execution": {
     "iopub.execute_input": "2025-02-19T02:39:36.435700Z",
     "iopub.status.busy": "2025-02-19T02:39:36.435304Z",
     "iopub.status.idle": "2025-02-19T02:39:36.441211Z",
     "shell.execute_reply": "2025-02-19T02:39:36.440162Z"
    },
    "papermill": {
     "duration": 0.014333,
     "end_time": "2025-02-19T02:39:36.443185",
     "exception": false,
     "start_time": "2025-02-19T02:39:36.428852",
     "status": "completed"
    },
    "tags": []
   },
   "outputs": [
    {
     "data": {
      "text/plain": [
       "\"\\nResults of fitting:\\n\\nBest Parameters: {'C': 100, 'gamma': 0.0001, 'kernel': 'linear'}\\nBest Score: 0.5289\\n\\nFitting 5 folds for each of 432 candidates, totalling 2160 fits\\nBest Parameters: {'max_depth': None, 'min_samples_leaf': 4, 'min_samples_split': 2, 'n_estimators': 50, 'random_state': 36}\\nBest Score: 0.4778\\n\\nFitting 5 folds for each of 432 candidates, totalling 2160 fits\\nBest Parameters: {'max_depth': 10, 'min_samples_leaf': 4, 'min_samples_split': 10, 'n_estimators': 200, 'random_state': 36}\\nBest Score: 0.4671\\n\""
      ]
     },
     "execution_count": 8,
     "metadata": {},
     "output_type": "execute_result"
    }
   ],
   "source": [
    "#Notes of my prior best scores and respective parameters/model\n",
    "\n",
    "'''\n",
    "Results of fitting:\n",
    "\n",
    "Best Parameters: {'C': 100, 'gamma': 0.0001, 'kernel': 'linear'}\n",
    "Best Score: 0.5289\n",
    "\n",
    "Fitting 5 folds for each of 432 candidates, totalling 2160 fits\n",
    "Best Parameters: {'max_depth': None, 'min_samples_leaf': 4, 'min_samples_split': 2, 'n_estimators': 50, 'random_state': 36}\n",
    "Best Score: 0.4778\n",
    "\n",
    "Fitting 5 folds for each of 432 candidates, totalling 2160 fits\n",
    "Best Parameters: {'max_depth': 10, 'min_samples_leaf': 4, 'min_samples_split': 10, 'n_estimators': 200, 'random_state': 36}\n",
    "Best Score: 0.4671\n",
    "'''"
   ]
  },
  {
   "cell_type": "code",
   "execution_count": 9,
   "id": "133c9a5c",
   "metadata": {
    "execution": {
     "iopub.execute_input": "2025-02-19T02:39:36.455177Z",
     "iopub.status.busy": "2025-02-19T02:39:36.454671Z",
     "iopub.status.idle": "2025-02-19T02:39:36.460709Z",
     "shell.execute_reply": "2025-02-19T02:39:36.459564Z"
    },
    "papermill": {
     "duration": 0.013993,
     "end_time": "2025-02-19T02:39:36.462438",
     "exception": false,
     "start_time": "2025-02-19T02:39:36.448445",
     "status": "completed"
    },
    "tags": []
   },
   "outputs": [
    {
     "data": {
      "text/plain": [
       "\"\\npd = pd.DataFrame(grid_clf.cv_results_)\\n\\nprint(pd)\\n\\nparameters = {'C': 0.001, 'gamma': 0.0001, 'kernel': 'poly'}\\n\\n\""
      ]
     },
     "execution_count": 9,
     "metadata": {},
     "output_type": "execute_result"
    }
   ],
   "source": [
    "#find the best parameters from the above code:\n",
    "'''\n",
    "pd = pd.DataFrame(grid_clf.cv_results_)\n",
    "\n",
    "print(pd)\n",
    "\n",
    "parameters = {'C': 0.001, 'gamma': 0.0001, 'kernel': 'poly'}\n",
    "\n",
    "'''"
   ]
  },
  {
   "cell_type": "markdown",
   "id": "a9dac73d",
   "metadata": {
    "papermill": {
     "duration": 0.004924,
     "end_time": "2025-02-19T02:39:36.472822",
     "exception": false,
     "start_time": "2025-02-19T02:39:36.467898",
     "status": "completed"
    },
    "tags": []
   },
   "source": [
    "# Training the Submission model and outputting the CSV"
   ]
  },
  {
   "cell_type": "code",
   "execution_count": 10,
   "id": "fdb0fd6f",
   "metadata": {
    "execution": {
     "iopub.execute_input": "2025-02-19T02:39:36.485010Z",
     "iopub.status.busy": "2025-02-19T02:39:36.484597Z",
     "iopub.status.idle": "2025-02-19T02:39:49.889768Z",
     "shell.execute_reply": "2025-02-19T02:39:49.888500Z"
    },
    "papermill": {
     "duration": 13.413563,
     "end_time": "2025-02-19T02:39:49.891638",
     "exception": false,
     "start_time": "2025-02-19T02:39:36.478075",
     "status": "completed"
    },
    "tags": []
   },
   "outputs": [
    {
     "name": "stdout",
     "output_type": "stream",
     "text": [
      "Pipeline created!\n",
      "Your submission was successfully saved!\n"
     ]
    }
   ],
   "source": [
    "\n",
    "#create model:\n",
    "from sklearn.pipeline import make_pipeline\n",
    "from sklearn.preprocessing import StandardScaler\n",
    "from sklearn.preprocessing import RobustScaler\n",
    "from sklearn.svm import SVR\n",
    "from sklearn.ensemble import RandomForestRegressor\n",
    "\n",
    "#parameters for SVR model\n",
    "#pipeline = SVR(kernel = 'linear', C = 0.1, gamma = 0.0001)\n",
    "parameters = SVR(kernel = 'linear', C = 100, gamma = 0.0001)\n",
    "#pipeline = RandomForestRegressor(max_depth = None, min_samples_leaf= 4, min_samples_split=2, n_estimators= 50, random_state=36)\n",
    "pipeline = make_pipeline(StandardScaler(), parameters)\n",
    "\n",
    "\n",
    "pipeline.fit(X,y)\n",
    "\n",
    "y_pred = pipeline.predict(Xtest)\n",
    "print('Pipeline created!')\n",
    "\n",
    "test_df = pd.DataFrame(testData)\n",
    "\n",
    "output = pd.DataFrame({'ID': test_df[\"ID\"], 'GPA': y_pred})\n",
    "\n",
    "#print(output)\n",
    "\n",
    "output.to_csv('submission.csv', index=False)\n",
    "print(\"Your submission was successfully saved!\")\n",
    "\n"
   ]
  }
 ],
 "metadata": {
  "kaggle": {
   "accelerator": "none",
   "dataSources": [
    {
     "databundleVersionId": 11076930,
     "sourceId": 92973,
     "sourceType": "competition"
    }
   ],
   "dockerImageVersionId": 30886,
   "isGpuEnabled": false,
   "isInternetEnabled": true,
   "language": "python",
   "sourceType": "notebook"
  },
  "kernelspec": {
   "display_name": "Python 3",
   "language": "python",
   "name": "python3"
  },
  "language_info": {
   "codemirror_mode": {
    "name": "ipython",
    "version": 3
   },
   "file_extension": ".py",
   "mimetype": "text/x-python",
   "name": "python",
   "nbconvert_exporter": "python",
   "pygments_lexer": "ipython3",
   "version": "3.10.12"
  },
  "papermill": {
   "default_parameters": {},
   "duration": 20.523339,
   "end_time": "2025-02-19T02:39:50.618475",
   "environment_variables": {},
   "exception": null,
   "input_path": "__notebook__.ipynb",
   "output_path": "__notebook__.ipynb",
   "parameters": {},
   "start_time": "2025-02-19T02:39:30.095136",
   "version": "2.6.0"
  }
 },
 "nbformat": 4,
 "nbformat_minor": 5
}
